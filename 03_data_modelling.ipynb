{
 "cells": [
  {
   "cell_type": "code",
   "execution_count": 1,
   "metadata": {},
   "outputs": [],
   "source": [
    "import pandas as pd\n",
    "import numpy as np\n",
    "import matplotlib.pyplot as plt\n",
    "import seaborn as sns\n"
   ]
  },
  {
   "cell_type": "code",
   "execution_count": 77,
   "metadata": {},
   "outputs": [],
   "source": [
    "#Read in the data collected from the data collection notebook\n",
    "df_wsb = pd.read_csv('./csv_files/wsb_data.csv')\n",
    "df_wsb_test = pd.read_csv('./csv_files/wsb_data_test.csv')\n",
    "df_sm = pd.read_csv('./csv_files/sm_data.csv')\n",
    "df_sm_test = pd.read_csv('./csv_files/sm_data_test.csv')"
   ]
  },
  {
   "cell_type": "code",
   "execution_count": 78,
   "metadata": {},
   "outputs": [],
   "source": [
    "#Combine the datasets into one dataframe for test and train\n",
    "df = pd.concat([df_wsb,df_sm], axis = 0)\n",
    "df_test = pd.concat([df_wsb_test,df_sm_test],axis = 0)"
   ]
  },
  {
   "cell_type": "code",
   "execution_count": 79,
   "metadata": {},
   "outputs": [],
   "source": [
    "#Drop unnamed index column\n",
    "df.drop(columns='Unnamed: 0',inplace= True)\n",
    "df_test.drop(columns='Unnamed: 0',inplace= True)"
   ]
  },
  {
   "cell_type": "code",
   "execution_count": 80,
   "metadata": {},
   "outputs": [
    {
     "data": {
      "text/plain": [
       "subreddit         0\n",
       "selftext       4671\n",
       "title             0\n",
       "created_utc       0\n",
       "dtype: int64"
      ]
     },
     "execution_count": 80,
     "metadata": {},
     "output_type": "execute_result"
    }
   ],
   "source": [
    "#Check the train dataset for null values\n",
    "df.isnull().sum()"
   ]
  },
  {
   "cell_type": "code",
   "execution_count": 81,
   "metadata": {},
   "outputs": [
    {
     "data": {
      "text/plain": [
       "subreddit        0\n",
       "selftext       114\n",
       "title            0\n",
       "created_utc      0\n",
       "dtype: int64"
      ]
     },
     "execution_count": 81,
     "metadata": {},
     "output_type": "execute_result"
    }
   ],
   "source": [
    "#Check the test dataset for null values\n",
    "df_test.isnull().sum()"
   ]
  },
  {
   "cell_type": "code",
   "execution_count": 82,
   "metadata": {},
   "outputs": [],
   "source": [
    "#Replace the null values in the selftext column with a blank space, theres no way for us to get that data and we dont want to drop it all\n",
    "df.fillna('',inplace = True)\n",
    "df_test.fillna('',inplace = True)"
   ]
  },
  {
   "cell_type": "code",
   "execution_count": 83,
   "metadata": {},
   "outputs": [
    {
     "data": {
      "text/plain": [
       "wallstreetbets    4000\n",
       "StockMarket       4000\n",
       "Name: subreddit, dtype: int64"
      ]
     },
     "execution_count": 83,
     "metadata": {},
     "output_type": "execute_result"
    }
   ],
   "source": [
    "df['subreddit'].value_counts()"
   ]
  },
  {
   "cell_type": "code",
   "execution_count": 84,
   "metadata": {},
   "outputs": [],
   "source": [
    "#Binarize the subreddit classes\n",
    "df['subreddit'] = df['subreddit'].map({'wallstreetbets': 1, 'StockMarket': 0 })\n",
    "df_test['subreddit'] = df_test['subreddit'].map({'wallstreetbets': 1, 'StockMarket': 0 })"
   ]
  },
  {
   "cell_type": "code",
   "execution_count": 85,
   "metadata": {},
   "outputs": [
    {
     "data": {
      "text/plain": [
       "1    4000\n",
       "0    4000\n",
       "Name: subreddit, dtype: int64"
      ]
     },
     "execution_count": 85,
     "metadata": {},
     "output_type": "execute_result"
    }
   ],
   "source": [
    "#Checked if the binarize worked\n",
    "df['subreddit'].value_counts()"
   ]
  },
  {
   "cell_type": "code",
   "execution_count": 86,
   "metadata": {},
   "outputs": [],
   "source": [
    "#Create X and y \n",
    "X= df['title']\n",
    "y = df['subreddit']\n",
    "test_X= df_test['title']\n",
    "test_y = df_test['subreddit']"
   ]
  },
  {
   "cell_type": "code",
   "execution_count": 12,
   "metadata": {},
   "outputs": [],
   "source": [
    "#Import Models being used from sklearn and xgboost\n",
    "from sklearn.feature_extraction.text import CountVectorizer\n",
    "from sklearn.model_selection import train_test_split,GridSearchCV,cross_val_score\n",
    "from sklearn.pipeline import Pipeline\n",
    "from sklearn.linear_model import LogisticRegression\n",
    "import xgboost as xgb"
   ]
  },
  {
   "cell_type": "code",
   "execution_count": 13,
   "metadata": {},
   "outputs": [],
   "source": [
    "#Train test split our X and Y\n",
    "X_train,X_test,y_train,y_test = train_test_split(X,y,stratify=y,random_state = 42)"
   ]
  },
  {
   "cell_type": "markdown",
   "metadata": {},
   "source": [
    "# Modelling \n",
    "For our modelling we're going to be trying five different types of models, XGboost, Logistic Regression, Bagging, Random Forest And KNN. We chose to do five models because so we can have a better chance of getting a higher classification accuracy, and it also helps see what the average of the accuracy would be."
   ]
  },
  {
   "cell_type": "markdown",
   "metadata": {},
   "source": [
    "# Xgboost Model, default parameters\n",
    "\n",
    "For our first model we're going to be using the default parameters within the xgboost to get a baseline of the score using xgboost"
   ]
  },
  {
   "cell_type": "code",
   "execution_count": 14,
   "metadata": {},
   "outputs": [],
   "source": [
    "#Transform the text with countvectorizer and then put that into an xgb classifier\n",
    "pipe_xgb = Pipeline([\n",
    "    ('cvec', CountVectorizer()),\n",
    "    ('xgb', xgb.XGBClassifier())\n",
    "])"
   ]
  },
  {
   "cell_type": "code",
   "execution_count": 15,
   "metadata": {},
   "outputs": [
    {
     "data": {
      "text/plain": [
       "Pipeline(steps=[('cvec', CountVectorizer()),\n",
       "                ('xgb',\n",
       "                 XGBClassifier(base_score=0.5, booster='gbtree', callbacks=None,\n",
       "                               colsample_bylevel=1, colsample_bynode=1,\n",
       "                               colsample_bytree=1, early_stopping_rounds=None,\n",
       "                               enable_categorical=False, eval_metric=None,\n",
       "                               feature_types=None, gamma=0, gpu_id=-1,\n",
       "                               grow_policy='depthwise', importance_type=None,\n",
       "                               interaction_constraints='',\n",
       "                               learning_rate=0.300000012, max_bin=256,\n",
       "                               max_cat_threshold=64, max_cat_to_onehot=4,\n",
       "                               max_delta_step=0, max_depth=6, max_leaves=0,\n",
       "                               min_child_weight=1, missing=nan,\n",
       "                               monotone_constraints='()', n_estimators=100,\n",
       "                               n_jobs=0, num_parallel_tree=1, predictor='auto',\n",
       "                               random_state=0, ...))])"
      ]
     },
     "execution_count": 15,
     "metadata": {},
     "output_type": "execute_result"
    }
   ],
   "source": [
    "#Fit Xgb model\n",
    "pipe_xgb.fit(X_train,y_train)"
   ]
  },
  {
   "cell_type": "code",
   "execution_count": 16,
   "metadata": {},
   "outputs": [
    {
     "name": "stdout",
     "output_type": "stream",
     "text": [
      "0.8261666666666667\n"
     ]
    },
    {
     "data": {
      "text/plain": [
       "0.736"
      ]
     },
     "execution_count": 16,
     "metadata": {},
     "output_type": "execute_result"
    }
   ],
   "source": [
    "#Model scores\n",
    "print(pipe_xgb.score(X_train,y_train))\n",
    "pipe_xgb.score(X_test,y_test)"
   ]
  },
  {
   "cell_type": "markdown",
   "metadata": {},
   "source": [
    "Just looking at the scores we can see that our model is overfit using the default parameters but it predicts the right subreddit 73% of the time, 23% higher than the baseline. This is pretty decent of an increase but lets see if we can either get a less overfit model or higher test accuracy utilizing gridsearch with xgb."
   ]
  },
  {
   "cell_type": "markdown",
   "metadata": {},
   "source": [
    "# XgBoost Model with hyperparameter tuning"
   ]
  },
  {
   "cell_type": "code",
   "execution_count": 17,
   "metadata": {},
   "outputs": [],
   "source": [
    "#Refit the Xgboost model with more optimized hyperparameters\n",
    "pipe_xgb = Pipeline([\n",
    "    ('cvec', CountVectorizer()),\n",
    "    ('xgb', xgb.XGBClassifier())\n",
    "])\n",
    "pipe_params = {\n",
    "    'xgb__learning_rate':[0.3,1.0],\n",
    "    'xgb__max_depth':[3,7],\n",
    "    'xgb__base_score':[0.3,0.7],\n",
    "    'cvec__max_features': [2000,8000],\n",
    "    'cvec__stop_words':[None,'english'],\n",
    "    'cvec__ngram_range':[(1,1),(2,2),(3,3)],\n",
    "    'cvec__min_df':[1,2],\n",
    "    'cvec__max_df':[0.5,0.9]\n",
    "}"
   ]
  },
  {
   "cell_type": "code",
   "execution_count": 18,
   "metadata": {},
   "outputs": [],
   "source": [
    "#GridSearch\n",
    "gs_xgb = GridSearchCV(\n",
    "    pipe_xgb,\n",
    "    param_grid = pipe_params,\n",
    "    cv = 3\n",
    ")"
   ]
  },
  {
   "cell_type": "code",
   "execution_count": 19,
   "metadata": {},
   "outputs": [
    {
     "data": {
      "text/plain": [
       "GridSearchCV(cv=3,\n",
       "             estimator=Pipeline(steps=[('cvec', CountVectorizer()),\n",
       "                                       ('xgb',\n",
       "                                        XGBClassifier(base_score=None,\n",
       "                                                      booster=None,\n",
       "                                                      callbacks=None,\n",
       "                                                      colsample_bylevel=None,\n",
       "                                                      colsample_bynode=None,\n",
       "                                                      colsample_bytree=None,\n",
       "                                                      early_stopping_rounds=None,\n",
       "                                                      enable_categorical=False,\n",
       "                                                      eval_metric=None,\n",
       "                                                      feature_types=None,\n",
       "                                                      gamma=None, gpu_id=None,\n",
       "                                                      grow_policy=None,\n",
       "                                                      importance_type=Non...\n",
       "                                                      monotone_constraints=None,\n",
       "                                                      n_estimators=100,\n",
       "                                                      n_jobs=None,\n",
       "                                                      num_parallel_tree=None,\n",
       "                                                      predictor=None,\n",
       "                                                      random_state=None, ...))]),\n",
       "             param_grid={'cvec__max_df': [0.5, 0.9],\n",
       "                         'cvec__max_features': [2000, 8000],\n",
       "                         'cvec__min_df': [1, 2],\n",
       "                         'cvec__ngram_range': [(1, 1), (2, 2), (3, 3)],\n",
       "                         'cvec__stop_words': [None, 'english'],\n",
       "                         'xgb__base_score': [0.3, 0.7],\n",
       "                         'xgb__learning_rate': [0.3, 1.0],\n",
       "                         'xgb__max_depth': [3, 7]})"
      ]
     },
     "execution_count": 19,
     "metadata": {},
     "output_type": "execute_result"
    }
   ],
   "source": [
    "#Fit 2nd xgb model\n",
    "gs_xgb.fit(X_train,y_train)"
   ]
  },
  {
   "cell_type": "code",
   "execution_count": 20,
   "metadata": {},
   "outputs": [
    {
     "data": {
      "text/plain": [
       "{'cvec__max_df': 0.5,\n",
       " 'cvec__max_features': 2000,\n",
       " 'cvec__min_df': 1,\n",
       " 'cvec__ngram_range': (1, 1),\n",
       " 'cvec__stop_words': None,\n",
       " 'xgb__base_score': 0.3,\n",
       " 'xgb__learning_rate': 0.3,\n",
       " 'xgb__max_depth': 7}"
      ]
     },
     "execution_count": 20,
     "metadata": {},
     "output_type": "execute_result"
    }
   ],
   "source": [
    "#Checkout what the best paramters were during the grid search\n",
    "gs_xgb.best_params_"
   ]
  },
  {
   "cell_type": "code",
   "execution_count": 22,
   "metadata": {},
   "outputs": [
    {
     "name": "stdout",
     "output_type": "stream",
     "text": [
      "0.832\n"
     ]
    },
    {
     "data": {
      "text/plain": [
       "0.74"
      ]
     },
     "execution_count": 22,
     "metadata": {},
     "output_type": "execute_result"
    }
   ],
   "source": [
    "#Look at the scores to check for overfitting and test score\n",
    "print(gs_xgb.score(X_train,y_train))\n",
    "gs_xgb.score(X_test,y_test)"
   ]
  },
  {
   "cell_type": "markdown",
   "metadata": {},
   "source": [
    "The score with the given parameters was only 0.04% better than the default parameters and it also got more overfit, but utilizing\n",
    "best_params I can see how to adjust the parameters more to be fit better."
   ]
  },
  {
   "cell_type": "code",
   "execution_count": 133,
   "metadata": {},
   "outputs": [],
   "source": [
    "#Remake the parameters to be even more optimized\n",
    "pipe_xgb_2 = Pipeline([\n",
    "    ('cvec', CountVectorizer()),\n",
    "    ('xgb', xgb.XGBClassifier())\n",
    "])\n",
    "pipe_params_2 = {\n",
    "    'xgb__learning_rate':[0.1,0.3,0.5],\n",
    "    'xgb__max_depth':[7],\n",
    "    'xgb__base_score':[0.1,0.3,0.5],\n",
    "    'xgb__n_estimators':[50,100],\n",
    "    'xgb__min_child_weight':[1,2],\n",
    "    'xgb__colsample_bytree':[0.3,0.6],\n",
    "    'cvec__stop_words':[None,'english'],\n",
    "    'cvec__ngram_range':[(1,1),(2,2),(3,3)]\n",
    "}"
   ]
  },
  {
   "cell_type": "code",
   "execution_count": 134,
   "metadata": {},
   "outputs": [],
   "source": [
    "gs_xgb_2 = GridSearchCV(\n",
    "    pipe_xgb_2,\n",
    "    param_grid=pipe_params_2,\n",
    "    cv = 3\n",
    "\n",
    ")"
   ]
  },
  {
   "cell_type": "code",
   "execution_count": 135,
   "metadata": {},
   "outputs": [
    {
     "data": {
      "text/plain": [
       "GridSearchCV(cv=3,\n",
       "             estimator=Pipeline(steps=[('cvec', CountVectorizer()),\n",
       "                                       ('xgb',\n",
       "                                        XGBClassifier(base_score=None,\n",
       "                                                      booster=None,\n",
       "                                                      callbacks=None,\n",
       "                                                      colsample_bylevel=None,\n",
       "                                                      colsample_bynode=None,\n",
       "                                                      colsample_bytree=None,\n",
       "                                                      early_stopping_rounds=None,\n",
       "                                                      enable_categorical=False,\n",
       "                                                      eval_metric=None,\n",
       "                                                      feature_types=None,\n",
       "                                                      gamma=None, gpu_id=None,\n",
       "                                                      grow_policy=None,\n",
       "                                                      importance_type=Non...\n",
       "                                                      n_estimators=100,\n",
       "                                                      n_jobs=None,\n",
       "                                                      num_parallel_tree=None,\n",
       "                                                      predictor=None,\n",
       "                                                      random_state=None, ...))]),\n",
       "             param_grid={'cvec__ngram_range': [(1, 1), (2, 2), (3, 3)],\n",
       "                         'cvec__stop_words': [None, 'english'],\n",
       "                         'xgb__base_score': [0.1, 0.3, 0.5],\n",
       "                         'xgb__colsample_bytree': [0.3, 0.6],\n",
       "                         'xgb__learning_rate': [0.1, 0.3, 0.5],\n",
       "                         'xgb__max_depth': [7], 'xgb__min_child_weight': [1, 2],\n",
       "                         'xgb__n_estimators': [50, 100]})"
      ]
     },
     "execution_count": 135,
     "metadata": {},
     "output_type": "execute_result"
    }
   ],
   "source": [
    "gs_xgb_2.fit(X_train,y_train)"
   ]
  },
  {
   "cell_type": "code",
   "execution_count": 136,
   "metadata": {},
   "outputs": [
    {
     "data": {
      "text/plain": [
       "{'cvec__ngram_range': (1, 1),\n",
       " 'cvec__stop_words': None,\n",
       " 'xgb__base_score': 0.5,\n",
       " 'xgb__colsample_bytree': 0.6,\n",
       " 'xgb__learning_rate': 0.5,\n",
       " 'xgb__max_depth': 7,\n",
       " 'xgb__min_child_weight': 1,\n",
       " 'xgb__n_estimators': 100}"
      ]
     },
     "execution_count": 136,
     "metadata": {},
     "output_type": "execute_result"
    }
   ],
   "source": [
    "#Check the best parameters for 2nd xgb model\n",
    "gs_xgb_2.best_params_"
   ]
  },
  {
   "cell_type": "code",
   "execution_count": 137,
   "metadata": {},
   "outputs": [
    {
     "name": "stdout",
     "output_type": "stream",
     "text": [
      "0.8491666666666666\n"
     ]
    },
    {
     "data": {
      "text/plain": [
       "0.741"
      ]
     },
     "execution_count": 137,
     "metadata": {},
     "output_type": "execute_result"
    }
   ],
   "source": [
    "print(gs_xgb_2.score(X_train,y_train))\n",
    "gs_xgb_2.score(X_test,y_test)"
   ]
  },
  {
   "cell_type": "markdown",
   "metadata": {},
   "source": [
    "By fine tuning the hyperparameters we were only able to get a 0.001 increase from the previous optimization. This 0.001% increase would not be worth considering the increased runtime that it added."
   ]
  },
  {
   "cell_type": "markdown",
   "metadata": {},
   "source": [
    "# Random Forest Model"
   ]
  },
  {
   "cell_type": "code",
   "execution_count": 31,
   "metadata": {},
   "outputs": [],
   "source": [
    "#Import RandomForest ensemble library and randint to be used for randomizedsearch\n",
    "from scipy.stats import randint\n",
    "from sklearn.ensemble import RandomForestClassifier\n",
    "from sklearn.model_selection import RandomizedSearchCV\n"
   ]
  },
  {
   "cell_type": "code",
   "execution_count": 98,
   "metadata": {},
   "outputs": [],
   "source": [
    "#Make an estimated base of what we want our parameters to look like.\n",
    "pipe_rf = Pipeline([\n",
    "    ('cvec', CountVectorizer()),\n",
    "    ('rf', RandomForestClassifier())\n",
    "])\n",
    "pipe_rf_params = {\n",
    "    'cvec__max_features':randint(1000,10000),\n",
    "    'cvec__stop_words':[None,'english'],\n",
    "    'cvec__ngram_range':[(1,1),(2,2),(3,3)],\n",
    "    'cvec__min_df':randint(1,4),\n",
    "    'cvec__max_df':[0.5,0.7,0.9],\n",
    "    'rf__n_estimators':list(np.arange(10,500, step = 50)),\n",
    "    'rf__max_depth':list(np.arange(1,100,step = 10)),\n",
    "    'rf__min_samples_split':np.arange(2,10,step = 2),\n",
    "    'rf__min_samples_leaf':randint(1,10)\n",
    "}"
   ]
  },
  {
   "cell_type": "code",
   "execution_count": 99,
   "metadata": {},
   "outputs": [],
   "source": [
    "#RandomizedSearch makes it so it can cover a wider array of numbers compared to gridsearch and it can fit with a less amount of time.\n",
    "rs_rf = RandomizedSearchCV(\n",
    "    pipe_rf,\n",
    "    param_distributions= pipe_rf_params,\n",
    "    cv=3\n",
    "    \n",
    ")"
   ]
  },
  {
   "cell_type": "code",
   "execution_count": 100,
   "metadata": {},
   "outputs": [
    {
     "data": {
      "text/plain": [
       "RandomizedSearchCV(cv=3,\n",
       "                   estimator=Pipeline(steps=[('cvec', CountVectorizer()),\n",
       "                                             ('rf', RandomForestClassifier())]),\n",
       "                   param_distributions={'cvec__max_df': [0.5, 0.7, 0.9],\n",
       "                                        'cvec__max_features': <scipy.stats._distn_infrastructure.rv_frozen object at 0x7fc03811b520>,\n",
       "                                        'cvec__min_df': <scipy.stats._distn_infrastructure.rv_frozen object at 0x7fc03811b1c0>,\n",
       "                                        'cvec__ngram_range': [(1, 1), (2, 2),\n",
       "                                                              (3, 3)],\n",
       "                                        'cvec__stop_words': [None, 'english'],\n",
       "                                        'rf__max_depth': [1, 11, 21, 31, 41, 51,\n",
       "                                                          61, 71, 81, 91],\n",
       "                                        'rf__min_samples_leaf': <scipy.stats._distn_infrastructure.rv_frozen object at 0x7fc06d006640>,\n",
       "                                        'rf__min_samples_split': array([2, 4, 6, 8]),\n",
       "                                        'rf__n_estimators': [10, 60, 110, 160,\n",
       "                                                             210, 260, 310, 360,\n",
       "                                                             410, 460]})"
      ]
     },
     "execution_count": 100,
     "metadata": {},
     "output_type": "execute_result"
    }
   ],
   "source": [
    "rs_rf.fit(X_train,y_train)"
   ]
  },
  {
   "cell_type": "code",
   "execution_count": 37,
   "metadata": {},
   "outputs": [
    {
     "name": "stdout",
     "output_type": "stream",
     "text": [
      "0.7813333333333333\n"
     ]
    },
    {
     "data": {
      "text/plain": [
       "0.7315"
      ]
     },
     "execution_count": 37,
     "metadata": {},
     "output_type": "execute_result"
    }
   ],
   "source": [
    "print(rs_rf.score(X_train,y_train))\n",
    "rs_rf.score(X_test,y_test)"
   ]
  },
  {
   "cell_type": "markdown",
   "metadata": {},
   "source": [
    "The randomized Forest model performed worse compared to the xgboost model but it did end up being less overfit comparitively. "
   ]
  },
  {
   "cell_type": "markdown",
   "metadata": {},
   "source": [
    "# GridSearched Bagging"
   ]
  },
  {
   "cell_type": "code",
   "execution_count": 38,
   "metadata": {},
   "outputs": [],
   "source": [
    "#import Bagging library from sklearn\n",
    "from sklearn.ensemble import BaggingClassifier"
   ]
  },
  {
   "cell_type": "code",
   "execution_count": 138,
   "metadata": {},
   "outputs": [],
   "source": [
    "#Create pipeline and make the parameters for a basic gridsearched bagging model\n",
    "pipe_bag = Pipeline([\n",
    "    ('cvec',CountVectorizer()),\n",
    "    ('bag', BaggingClassifier())\n",
    "])\n",
    "pipe_bag_params = {\n",
    "    'cvec__stop_words':[None],\n",
    "    'cvec__ngram_range':[(1,1),(2,2)],\n",
    "    'bag__n_estimators':[100,150],\n",
    "    'bag__max_samples':[0.7,0.9],\n",
    "    'bag__max_features':[500,1000]  \n",
    "}"
   ]
  },
  {
   "cell_type": "code",
   "execution_count": 139,
   "metadata": {},
   "outputs": [],
   "source": [
    "gs_bag = GridSearchCV(\n",
    "    pipe_bag,\n",
    "    pipe_bag_params,\n",
    "    cv=3\n",
    ")"
   ]
  },
  {
   "cell_type": "code",
   "execution_count": 140,
   "metadata": {},
   "outputs": [
    {
     "data": {
      "text/plain": [
       "GridSearchCV(cv=3,\n",
       "             estimator=Pipeline(steps=[('cvec', CountVectorizer()),\n",
       "                                       ('bag', BaggingClassifier())]),\n",
       "             param_grid={'bag__max_features': [500, 1000],\n",
       "                         'bag__max_samples': [0.7, 0.9],\n",
       "                         'bag__n_estimators': [100, 150],\n",
       "                         'cvec__ngram_range': [(1, 1), (2, 2)],\n",
       "                         'cvec__stop_words': [None]})"
      ]
     },
     "execution_count": 140,
     "metadata": {},
     "output_type": "execute_result"
    }
   ],
   "source": [
    "gs_bag.fit(X_train,y_train)"
   ]
  },
  {
   "cell_type": "code",
   "execution_count": 141,
   "metadata": {},
   "outputs": [
    {
     "data": {
      "text/plain": [
       "{'bag__max_features': 1000,\n",
       " 'bag__max_samples': 0.7,\n",
       " 'bag__n_estimators': 150,\n",
       " 'cvec__ngram_range': (1, 1),\n",
       " 'cvec__stop_words': None}"
      ]
     },
     "execution_count": 141,
     "metadata": {},
     "output_type": "execute_result"
    }
   ],
   "source": [
    "#Best Parameters\n",
    "gs_bag.best_params_"
   ]
  },
  {
   "cell_type": "code",
   "execution_count": 142,
   "metadata": {},
   "outputs": [
    {
     "name": "stdout",
     "output_type": "stream",
     "text": [
      "0.9338333333333333\n",
      "0.7595\n"
     ]
    }
   ],
   "source": [
    "print(gs_bag.score(X_train,y_train))\n",
    "print(gs_bag.score(X_test,y_test))"
   ]
  },
  {
   "cell_type": "markdown",
   "metadata": {},
   "source": [
    "So far this gridsearched bagging model was our best model getting an accuracy of almost 76% but it was severely overfit."
   ]
  },
  {
   "cell_type": "markdown",
   "metadata": {},
   "source": [
    "# RandomSearched Bagging"
   ]
  },
  {
   "cell_type": "markdown",
   "metadata": {},
   "source": [
    "Since our bagging model was our best model so far I wanted to try and implement randomsearch to see if i can make a bagging model with better optimized parameters"
   ]
  },
  {
   "cell_type": "code",
   "execution_count": 160,
   "metadata": {},
   "outputs": [],
   "source": [
    "pipe_rs_bag = Pipeline([\n",
    "    ('cvec',CountVectorizer()),\n",
    "    ('bag',BaggingClassifier())\n",
    "])\n",
    "pipe_rs_bag_params = {\n",
    "    'cvec__ngram_range':[(1,1),(3,3)],\n",
    "    'cvec__min_df':randint(1,10),\n",
    "    'cvec__max_df':[0.5,0.7,0.9],\n",
    "    'bag__n_estimators':list(np.arange(5000,6000, step = 100)),\n",
    "    'bag__max_samples':[0.7,0.9],\n",
    "}"
   ]
  },
  {
   "cell_type": "code",
   "execution_count": 161,
   "metadata": {},
   "outputs": [],
   "source": [
    "rs_bag = RandomizedSearchCV(\n",
    "    pipe_rs_bag,\n",
    "    param_distributions = pipe_rs_bag_params,\n",
    "    cv = 3\n",
    ")"
   ]
  },
  {
   "cell_type": "code",
   "execution_count": null,
   "metadata": {},
   "outputs": [],
   "source": [
    "rs_bag.fit(X_train,y_train)\n"
   ]
  },
  {
   "cell_type": "code",
   "execution_count": null,
   "metadata": {},
   "outputs": [
    {
     "data": {
      "text/plain": [
       "{'bag__max_features': 400,\n",
       " 'bag__max_samples': 0.9,\n",
       " 'bag__n_estimators': 5500,\n",
       " 'cvec__max_df': 0.5,\n",
       " 'cvec__min_df': 1,\n",
       " 'cvec__ngram_range': (1, 1),\n",
       " 'cvec__stop_words': None}"
      ]
     },
     "execution_count": 122,
     "metadata": {},
     "output_type": "execute_result"
    }
   ],
   "source": [
    "rs_bag.best_params_"
   ]
  },
  {
   "cell_type": "code",
   "execution_count": null,
   "metadata": {},
   "outputs": [
    {
     "name": "stdout",
     "output_type": "stream",
     "text": [
      "0.9146666666666666\n",
      "0.767\n"
     ]
    }
   ],
   "source": [
    "print(rs_bag.score(X_train,y_train))\n",
    "print(rs_bag.score(X_test,y_test))"
   ]
  },
  {
   "cell_type": "markdown",
   "metadata": {},
   "source": [
    "By utilizing randomsearch we were able to get a 0.008% difference."
   ]
  },
  {
   "cell_type": "markdown",
   "metadata": {},
   "source": [
    "# KNN\n"
   ]
  },
  {
   "cell_type": "code",
   "execution_count": 149,
   "metadata": {},
   "outputs": [],
   "source": [
    "#Import KNN\n",
    "from sklearn.neighbors import KNeighborsClassifier"
   ]
  },
  {
   "cell_type": "code",
   "execution_count": 152,
   "metadata": {},
   "outputs": [],
   "source": [
    "#Make KNN pipeline and put in some random parameters to be gridsearched\n",
    "pipe_knn = Pipeline([\n",
    "    ('cvec', CountVectorizer()),\n",
    "    ('knn',KNeighborsClassifier())\n",
    "])\n",
    "pipe_knn_params = {\n",
    "    'cvec__stop_words':[None],\n",
    "    'cvec__ngram_range':[(1,1),(3,3)],\n",
    "    'cvec__min_df':[1,2,3],\n",
    "    'cvec__max_df':[0.5,0.7,0.9],\n",
    "    'knn__n_neighbors': [1,3,5],\n",
    "    'knn__p':[2,3,4],\n",
    "    'knn__weights':['uniform','distance',None]\n",
    "}\n",
    "gs_knn = GridSearchCV(\n",
    "    pipe_knn,\n",
    "    param_grid = pipe_knn_params,\n",
    "    cv = 3\n",
    ")"
   ]
  },
  {
   "cell_type": "code",
   "execution_count": 153,
   "metadata": {},
   "outputs": [
    {
     "name": "stderr",
     "output_type": "stream",
     "text": [
      "/Users/jaysonv/opt/anaconda3/envs/dsi/lib/python3.8/site-packages/sklearn/model_selection/_validation.py:372: FitFailedWarning: \n",
      "972 fits failed out of a total of 1458.\n",
      "The score on these train-test partitions for these parameters will be set to nan.\n",
      "If these failures are not expected, you can try to debug them by setting error_score='raise'.\n",
      "\n",
      "Below are more details about the failures:\n",
      "--------------------------------------------------------------------------------\n",
      "972 fits failed with the following error:\n",
      "Traceback (most recent call last):\n",
      "  File \"/Users/jaysonv/opt/anaconda3/envs/dsi/lib/python3.8/site-packages/sklearn/model_selection/_validation.py\", line 680, in _fit_and_score\n",
      "    estimator.fit(X_train, y_train, **fit_params)\n",
      "  File \"/Users/jaysonv/opt/anaconda3/envs/dsi/lib/python3.8/site-packages/sklearn/pipeline.py\", line 394, in fit\n",
      "    self._final_estimator.fit(Xt, y, **fit_params_last_step)\n",
      "  File \"/Users/jaysonv/opt/anaconda3/envs/dsi/lib/python3.8/site-packages/sklearn/neighbors/_classification.py\", line 198, in fit\n",
      "    return self._fit(X, y)\n",
      "  File \"/Users/jaysonv/opt/anaconda3/envs/dsi/lib/python3.8/site-packages/sklearn/neighbors/_base.py\", line 508, in _fit\n",
      "    raise ValueError(\n",
      "ValueError: Metric 'minkowski' not valid for sparse input. Use sorted(sklearn.neighbors.VALID_METRICS_SPARSE['brute']) to get valid options. Metric can also be a callable function.\n",
      "\n",
      "  warnings.warn(some_fits_failed_message, FitFailedWarning)\n",
      "/Users/jaysonv/opt/anaconda3/envs/dsi/lib/python3.8/site-packages/sklearn/model_selection/_search.py:969: UserWarning: One or more of the test scores are non-finite: [0.64616667 0.64616667 0.64616667        nan        nan        nan\n",
      "        nan        nan        nan 0.61516667 0.62816667 0.61516667\n",
      "        nan        nan        nan        nan        nan        nan\n",
      " 0.60816667 0.621      0.60816667        nan        nan        nan\n",
      "        nan        nan        nan 0.55583333 0.55583333 0.55583333\n",
      "        nan        nan        nan        nan        nan        nan\n",
      " 0.52966667 0.5505     0.52966667        nan        nan        nan\n",
      "        nan        nan        nan 0.51383333 0.53216667 0.51383333\n",
      "        nan        nan        nan        nan        nan        nan\n",
      " 0.66666667 0.66666667 0.66666667        nan        nan        nan\n",
      "        nan        nan        nan 0.6395     0.65133333 0.6395\n",
      "        nan        nan        nan        nan        nan        nan\n",
      " 0.62733333 0.64366667 0.62733333        nan        nan        nan\n",
      "        nan        nan        nan 0.53383333 0.53383333 0.53383333\n",
      "        nan        nan        nan        nan        nan        nan\n",
      " 0.53       0.534      0.53              nan        nan        nan\n",
      "        nan        nan        nan 0.55383333 0.55816667 0.55383333\n",
      "        nan        nan        nan        nan        nan        nan\n",
      " 0.65583333 0.65583333 0.65583333        nan        nan        nan\n",
      "        nan        nan        nan 0.65366667 0.66333333 0.65366667\n",
      "        nan        nan        nan        nan        nan        nan\n",
      " 0.638      0.652      0.638             nan        nan        nan\n",
      "        nan        nan        nan 0.52366667 0.52366667 0.52366667\n",
      "        nan        nan        nan        nan        nan        nan\n",
      " 0.52216667 0.52466667 0.52216667        nan        nan        nan\n",
      "        nan        nan        nan 0.54966667 0.551      0.54966667\n",
      "        nan        nan        nan        nan        nan        nan\n",
      " 0.64616667 0.64616667 0.64616667        nan        nan        nan\n",
      "        nan        nan        nan 0.61516667 0.62816667 0.61516667\n",
      "        nan        nan        nan        nan        nan        nan\n",
      " 0.60816667 0.621      0.60816667        nan        nan        nan\n",
      "        nan        nan        nan 0.55583333 0.55583333 0.55583333\n",
      "        nan        nan        nan        nan        nan        nan\n",
      " 0.52966667 0.5505     0.52966667        nan        nan        nan\n",
      "        nan        nan        nan 0.51383333 0.53216667 0.51383333\n",
      "        nan        nan        nan        nan        nan        nan\n",
      " 0.66666667 0.66666667 0.66666667        nan        nan        nan\n",
      "        nan        nan        nan 0.6395     0.65133333 0.6395\n",
      "        nan        nan        nan        nan        nan        nan\n",
      " 0.62733333 0.64366667 0.62733333        nan        nan        nan\n",
      "        nan        nan        nan 0.53383333 0.53383333 0.53383333\n",
      "        nan        nan        nan        nan        nan        nan\n",
      " 0.53       0.534      0.53              nan        nan        nan\n",
      "        nan        nan        nan 0.55383333 0.55816667 0.55383333\n",
      "        nan        nan        nan        nan        nan        nan\n",
      " 0.65583333 0.65583333 0.65583333        nan        nan        nan\n",
      "        nan        nan        nan 0.65366667 0.66333333 0.65366667\n",
      "        nan        nan        nan        nan        nan        nan\n",
      " 0.638      0.652      0.638             nan        nan        nan\n",
      "        nan        nan        nan 0.52366667 0.52366667 0.52366667\n",
      "        nan        nan        nan        nan        nan        nan\n",
      " 0.52216667 0.52466667 0.52216667        nan        nan        nan\n",
      "        nan        nan        nan 0.54966667 0.551      0.54966667\n",
      "        nan        nan        nan        nan        nan        nan\n",
      " 0.64616667 0.64616667 0.64616667        nan        nan        nan\n",
      "        nan        nan        nan 0.61516667 0.62816667 0.61516667\n",
      "        nan        nan        nan        nan        nan        nan\n",
      " 0.60816667 0.621      0.60816667        nan        nan        nan\n",
      "        nan        nan        nan 0.55583333 0.55583333 0.55583333\n",
      "        nan        nan        nan        nan        nan        nan\n",
      " 0.52966667 0.5505     0.52966667        nan        nan        nan\n",
      "        nan        nan        nan 0.51383333 0.53216667 0.51383333\n",
      "        nan        nan        nan        nan        nan        nan\n",
      " 0.66666667 0.66666667 0.66666667        nan        nan        nan\n",
      "        nan        nan        nan 0.6395     0.65133333 0.6395\n",
      "        nan        nan        nan        nan        nan        nan\n",
      " 0.62733333 0.64366667 0.62733333        nan        nan        nan\n",
      "        nan        nan        nan 0.53383333 0.53383333 0.53383333\n",
      "        nan        nan        nan        nan        nan        nan\n",
      " 0.53       0.534      0.53              nan        nan        nan\n",
      "        nan        nan        nan 0.55383333 0.55816667 0.55383333\n",
      "        nan        nan        nan        nan        nan        nan\n",
      " 0.65583333 0.65583333 0.65583333        nan        nan        nan\n",
      "        nan        nan        nan 0.65366667 0.66333333 0.65366667\n",
      "        nan        nan        nan        nan        nan        nan\n",
      " 0.638      0.652      0.638             nan        nan        nan\n",
      "        nan        nan        nan 0.52366667 0.52366667 0.52366667\n",
      "        nan        nan        nan        nan        nan        nan\n",
      " 0.52216667 0.52466667 0.52216667        nan        nan        nan\n",
      "        nan        nan        nan 0.54966667 0.551      0.54966667\n",
      "        nan        nan        nan        nan        nan        nan]\n",
      "  warnings.warn(\n"
     ]
    },
    {
     "data": {
      "text/plain": [
       "GridSearchCV(cv=3,\n",
       "             estimator=Pipeline(steps=[('cvec', CountVectorizer()),\n",
       "                                       ('knn', KNeighborsClassifier())]),\n",
       "             param_grid={'cvec__max_df': [0.5, 0.7, 0.9],\n",
       "                         'cvec__min_df': [1, 2, 3],\n",
       "                         'cvec__ngram_range': [(1, 1), (3, 3)],\n",
       "                         'cvec__stop_words': [None],\n",
       "                         'knn__n_neighbors': [1, 3, 5], 'knn__p': [2, 3, 4],\n",
       "                         'knn__weights': ['uniform', 'distance', None]})"
      ]
     },
     "execution_count": 153,
     "metadata": {},
     "output_type": "execute_result"
    }
   ],
   "source": [
    "gs_knn.fit(X_train,y_train)"
   ]
  },
  {
   "cell_type": "code",
   "execution_count": 61,
   "metadata": {},
   "outputs": [
    {
     "data": {
      "text/plain": [
       "{'cvec__max_df': 0.5,\n",
       " 'cvec__max_features': 500,\n",
       " 'cvec__min_df': 3,\n",
       " 'cvec__ngram_range': (1, 1),\n",
       " 'cvec__stop_words': None,\n",
       " 'knn__n_neighbors': 3,\n",
       " 'knn__p': 2,\n",
       " 'knn__weights': 'distance'}"
      ]
     },
     "execution_count": 61,
     "metadata": {},
     "output_type": "execute_result"
    }
   ],
   "source": [
    "#Knns Best Parameters\n",
    "gs_knn.best_params_"
   ]
  },
  {
   "cell_type": "code",
   "execution_count": 124,
   "metadata": {},
   "outputs": [
    {
     "name": "stdout",
     "output_type": "stream",
     "text": [
      "0.938\n",
      "0.667\n"
     ]
    }
   ],
   "source": [
    "#Check the scores for KNN Model\n",
    "print(gs_knn.score(X_train,y_train))\n",
    "print(gs_knn.score(X_test,y_test))"
   ]
  },
  {
   "cell_type": "markdown",
   "metadata": {},
   "source": [
    "KNN was our worse model and conceptually this makes sense as the way it uses the distance of points to find out other points classifications and we are using pure texts."
   ]
  },
  {
   "cell_type": "markdown",
   "metadata": {},
   "source": [
    "# Logistic Regression "
   ]
  },
  {
   "cell_type": "code",
   "execution_count": 154,
   "metadata": {},
   "outputs": [],
   "source": [
    "pipe_lr = Pipeline([\n",
    "    ('cvec', CountVectorizer()),\n",
    "    ('lr', LogisticRegression())\n",
    "])\n",
    "pipe_lr_params= {\n",
    "    'cvec__stop_words':[None,],\n",
    "    'cvec__ngram_range':[(1,1),(2,2),(3,3)],\n",
    "    'cvec__min_df':randint(1,4),\n",
    "    'cvec__max_df':[0.5,0.7,0.9],\n",
    "    'lr__penalty':['l2','l1','elasticnet'],\n",
    "    'lr__C':[0.3,0.5,0.7,0.9],\n",
    "    'lr__max_iter':randint(100,1000)\n",
    "}"
   ]
  },
  {
   "cell_type": "code",
   "execution_count": 155,
   "metadata": {},
   "outputs": [],
   "source": [
    "rs_lr = RandomizedSearchCV(\n",
    "    pipe_lr,\n",
    "    param_distributions = pipe_lr_params,\n",
    "    cv = 3\n",
    ")"
   ]
  },
  {
   "cell_type": "code",
   "execution_count": 156,
   "metadata": {},
   "outputs": [
    {
     "name": "stderr",
     "output_type": "stream",
     "text": [
      "/Users/jaysonv/opt/anaconda3/envs/dsi/lib/python3.8/site-packages/sklearn/model_selection/_validation.py:372: FitFailedWarning: \n",
      "21 fits failed out of a total of 30.\n",
      "The score on these train-test partitions for these parameters will be set to nan.\n",
      "If these failures are not expected, you can try to debug them by setting error_score='raise'.\n",
      "\n",
      "Below are more details about the failures:\n",
      "--------------------------------------------------------------------------------\n",
      "12 fits failed with the following error:\n",
      "Traceback (most recent call last):\n",
      "  File \"/Users/jaysonv/opt/anaconda3/envs/dsi/lib/python3.8/site-packages/sklearn/model_selection/_validation.py\", line 680, in _fit_and_score\n",
      "    estimator.fit(X_train, y_train, **fit_params)\n",
      "  File \"/Users/jaysonv/opt/anaconda3/envs/dsi/lib/python3.8/site-packages/sklearn/pipeline.py\", line 394, in fit\n",
      "    self._final_estimator.fit(Xt, y, **fit_params_last_step)\n",
      "  File \"/Users/jaysonv/opt/anaconda3/envs/dsi/lib/python3.8/site-packages/sklearn/linear_model/_logistic.py\", line 1461, in fit\n",
      "    solver = _check_solver(self.solver, self.penalty, self.dual)\n",
      "  File \"/Users/jaysonv/opt/anaconda3/envs/dsi/lib/python3.8/site-packages/sklearn/linear_model/_logistic.py\", line 447, in _check_solver\n",
      "    raise ValueError(\n",
      "ValueError: Solver lbfgs supports only 'l2' or 'none' penalties, got elasticnet penalty.\n",
      "\n",
      "--------------------------------------------------------------------------------\n",
      "9 fits failed with the following error:\n",
      "Traceback (most recent call last):\n",
      "  File \"/Users/jaysonv/opt/anaconda3/envs/dsi/lib/python3.8/site-packages/sklearn/model_selection/_validation.py\", line 680, in _fit_and_score\n",
      "    estimator.fit(X_train, y_train, **fit_params)\n",
      "  File \"/Users/jaysonv/opt/anaconda3/envs/dsi/lib/python3.8/site-packages/sklearn/pipeline.py\", line 394, in fit\n",
      "    self._final_estimator.fit(Xt, y, **fit_params_last_step)\n",
      "  File \"/Users/jaysonv/opt/anaconda3/envs/dsi/lib/python3.8/site-packages/sklearn/linear_model/_logistic.py\", line 1461, in fit\n",
      "    solver = _check_solver(self.solver, self.penalty, self.dual)\n",
      "  File \"/Users/jaysonv/opt/anaconda3/envs/dsi/lib/python3.8/site-packages/sklearn/linear_model/_logistic.py\", line 447, in _check_solver\n",
      "    raise ValueError(\n",
      "ValueError: Solver lbfgs supports only 'l2' or 'none' penalties, got l1 penalty.\n",
      "\n",
      "  warnings.warn(some_fits_failed_message, FitFailedWarning)\n",
      "/Users/jaysonv/opt/anaconda3/envs/dsi/lib/python3.8/site-packages/sklearn/model_selection/_search.py:969: UserWarning: One or more of the test scores are non-finite: [0.58216667        nan 0.66833333        nan        nan        nan\n",
      "        nan        nan 0.75433333        nan]\n",
      "  warnings.warn(\n"
     ]
    },
    {
     "data": {
      "text/plain": [
       "RandomizedSearchCV(cv=3,\n",
       "                   estimator=Pipeline(steps=[('cvec', CountVectorizer()),\n",
       "                                             ('lr', LogisticRegression())]),\n",
       "                   param_distributions={'cvec__max_df': [0.5, 0.7, 0.9],\n",
       "                                        'cvec__min_df': <scipy.stats._distn_infrastructure.rv_frozen object at 0x7fbfb9b7e310>,\n",
       "                                        'cvec__ngram_range': [(1, 1), (2, 2),\n",
       "                                                              (3, 3)],\n",
       "                                        'cvec__stop_words': [None],\n",
       "                                        'lr__C': [0.3, 0.5, 0.7, 0.9],\n",
       "                                        'lr__max_iter': <scipy.stats._distn_infrastructure.rv_frozen object at 0x7fbfb9b7e4f0>,\n",
       "                                        'lr__penalty': ['l2', 'l1',\n",
       "                                                        'elasticnet']})"
      ]
     },
     "execution_count": 156,
     "metadata": {},
     "output_type": "execute_result"
    }
   ],
   "source": [
    "rs_lr.fit(X_train,y_train)"
   ]
  },
  {
   "cell_type": "code",
   "execution_count": 66,
   "metadata": {},
   "outputs": [
    {
     "data": {
      "text/plain": [
       "{'cvec__max_df': 0.7,\n",
       " 'cvec__max_features': 8264,\n",
       " 'cvec__min_df': 1,\n",
       " 'cvec__ngram_range': (1, 1),\n",
       " 'cvec__stop_words': None,\n",
       " 'lr__C': 0.7,\n",
       " 'lr__max_iter': 440,\n",
       " 'lr__penalty': 'l2'}"
      ]
     },
     "execution_count": 66,
     "metadata": {},
     "output_type": "execute_result"
    }
   ],
   "source": [
    "rs_lr.best_params_"
   ]
  },
  {
   "cell_type": "code",
   "execution_count": 68,
   "metadata": {},
   "outputs": [
    {
     "name": "stdout",
     "output_type": "stream",
     "text": [
      "0.912\n"
     ]
    },
    {
     "data": {
      "text/plain": [
       "0.762"
      ]
     },
     "execution_count": 68,
     "metadata": {},
     "output_type": "execute_result"
    }
   ],
   "source": [
    "print(rs_lr.score(X_train,y_train))\n",
    "rs_lr.score(X_test,y_test)"
   ]
  },
  {
   "cell_type": "markdown",
   "metadata": {},
   "source": [
    "# Applying model to \"original\" data"
   ]
  },
  {
   "cell_type": "markdown",
   "metadata": {},
   "source": [
    "For purpose of our problem statement we will run the bagging models on our \"original\" data and see which model performs the best."
   ]
  },
  {
   "cell_type": "code",
   "execution_count": 107,
   "metadata": {},
   "outputs": [],
   "source": [
    "#Make X and y on our original data\n",
    "test_X = df_test['title']\n",
    "test_y = df_test['subreddit']"
   ]
  },
  {
   "cell_type": "code",
   "execution_count": 125,
   "metadata": {},
   "outputs": [
    {
     "name": "stdout",
     "output_type": "stream",
     "text": [
      "GridSearched XgBoost: 0.685\n",
      "RandomSearched Logisitic Regression: 0.705\n",
      "GridSearched Bagging: 0.72\n",
      "RandomSearched Bagging: 0.765\n",
      "GridSearched KNN: 0.66\n",
      "Random Forest: 0.695\n"
     ]
    }
   ],
   "source": [
    "\n",
    "print(f'GridSearched XgBoost: {gs_xgb_2.score(test_X,test_y)}')\n",
    "print(f'RandomSearched Logisitic Regression: {rs_lr.score(test_X,test_y)}')\n",
    "print(f'GridSearched Bagging: {round(gs_bag.score(test_X,test_y),2)}')\n",
    "print(f'RandomSearched Bagging: {rs_bag.score(test_X,test_y)}')\n",
    "print(f'GridSearched KNN: {round(gs_knn.score(test_X,test_y),2)}')\n",
    "print(f'Random Forest: {rs_rf.score(test_X,test_y)}')\n"
   ]
  },
  {
   "cell_type": "code",
   "execution_count": 118,
   "metadata": {},
   "outputs": [
    {
     "name": "stdout",
     "output_type": "stream",
     "text": [
      "RandomSearched Bagging: 0.765\n"
     ]
    }
   ],
   "source": [
    "print(f'RandomSearched Bagging: {rs_bag.score(test_X,test_y)}')"
   ]
  },
  {
   "cell_type": "markdown",
   "metadata": {},
   "source": [
    "It looks like the model that performed the best and generalized to new data the best was our RandomSearched bagging model. We will move forward and look closer into this model and see how it evaluated everything."
   ]
  },
  {
   "cell_type": "code",
   "execution_count": 126,
   "metadata": {},
   "outputs": [],
   "source": [
    "#import Model evaluation Libraries\n",
    "from sklearn.metrics import ConfusionMatrixDisplay, confusion_matrix,classification_report"
   ]
  },
  {
   "cell_type": "code",
   "execution_count": 113,
   "metadata": {},
   "outputs": [],
   "source": [
    "# Create our preds to compared to the actual values\n",
    "preds = rs_bag.predict(test_X)"
   ]
  },
  {
   "cell_type": "code",
   "execution_count": 114,
   "metadata": {},
   "outputs": [
    {
     "data": {
      "image/png": "[encoded data removed]",
      "text/plain": [
       "<Figure size 640x480 with 2 Axes>"
      ]
     },
     "metadata": {},
     "output_type": "display_data"
    }
   ],
   "source": [
    "cm= confusion_matrix(test_y,preds,labels= rs_bag.classes_)\n",
    "disp = ConfusionMatrixDisplay(confusion_matrix = cm,display_labels = ['WallStreetBets','StockMarket'])\n",
    "disp.plot(cmap=plt.cm.Blues)\n",
    "plt.title('Actual Vs Predicted')\n",
    "plt.tight_layout()\n",
    "plt.savefig('./images/ConfusionMatrix')"
   ]
  },
  {
   "cell_type": "code",
   "execution_count": 129,
   "metadata": {},
   "outputs": [
    {
     "name": "stdout",
     "output_type": "stream",
     "text": [
      "              precision    recall  f1-score   support\n",
      "\n",
      "           0       0.83      0.67      0.74       100\n",
      "           1       0.72      0.86      0.79       100\n",
      "\n",
      "    accuracy                           0.77       200\n",
      "   macro avg       0.77      0.77      0.76       200\n",
      "weighted avg       0.77      0.77      0.76       200\n",
      "\n"
     ]
    }
   ],
   "source": [
    "print(classification_report(test_y,preds))"
   ]
  },
  {
   "cell_type": "markdown",
   "metadata": {},
   "source": [
    "From the confusion Matrix and classification report we can see that our model is having a harder time correctly classifying WallstreetBets. This could make a lot of sense because as shown earlier the text within WallstreetBets excluding a couple of phrases are pretty generic and was pretty common when looking at it with StockMarket."
   ]
  },
  {
   "cell_type": "markdown",
   "metadata": {},
   "source": []
  }
 ],
 "metadata": {
  "kernelspec": {
   "display_name": "Python 3.8.15 ('base')",
   "language": "python",
   "name": "python3"
  },
  "language_info": {
   "codemirror_mode": {
    "name": "ipython",
    "version": 3
   },
   "file_extension": ".py",
   "mimetype": "text/x-python",
   "name": "python",
   "nbconvert_exporter": "python",
   "pygments_lexer": "ipython3",
   "version": "3.8.15"
  },
  "orig_nbformat": 4,
  "vscode": {
   "interpreter": {
    "hash": "abd0db753b5aa849fcd3ff8bd130488ba3623be7a2758c7f531c9ac28620d6eb"
   }
  }
 },
 "nbformat": 4,
 "nbformat_minor": 2
}
