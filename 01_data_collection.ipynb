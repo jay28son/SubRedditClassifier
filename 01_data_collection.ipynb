{
 "cells": [
  {
   "cell_type": "code",
   "execution_count": 1,
   "metadata": {},
   "outputs": [],
   "source": [
    "import requests\n",
    "import calendar\n",
    "import time\n",
    "import pandas as pd"
   ]
  },
  {
   "cell_type": "code",
   "execution_count": 2,
   "metadata": {},
   "outputs": [],
   "source": [
    "#Create a function that can be used to collect the data from multiple subreddits\n",
    "def subreddit_data(subred):\n",
    "    #Create a df without until parameter\n",
    "    base_url = 'https://api.pushshift.io/reddit/search/submission'\n",
    "    params1 = { \n",
    "        'subreddit' : subred,\n",
    "        'limit' : 100,\n",
    "        'filter' : 'subreddit, selftext, title, created_utc',\n",
    "        'selftext:not': '[removed], ',\n",
    "        'sort_type': 'num_comments'\n",
    "        \n",
    "    }\n",
    "    res = requests.get(base_url,params1)\n",
    "    #create a list where i can append the data from for loop \n",
    "    appended_data= []\n",
    "    df = pd.DataFrame(res.json()['data'])\n",
    "    appended_data.append(df)\n",
    "    #loop through parameters with different untils to get 4000 points of data\n",
    "    for i in range(1,40,1):\n",
    "        params = { \n",
    "        'subreddit' : subred,\n",
    "        'limit' : 100,\n",
    "        'filter' : 'subreddit, selftext, title, created_utc',\n",
    "        'selftext:not': '[removed], ',\n",
    "        'sort_type': 'num_comments',\n",
    "        'until' : df['created_utc'][99]\n",
    "        }\n",
    "        res = requests.get(base_url,params)\n",
    "        df = pd.DataFrame(res.json()['data'])\n",
    "        appended_data.append(df)\n",
    "    appended_data = pd.concat(appended_data,ignore_index= True)\n",
    "    return appended_data"
   ]
  },
  {
   "cell_type": "code",
   "execution_count": 3,
   "metadata": {},
   "outputs": [],
   "source": [
    "#Use the function created to webscrape data from the subreddit wallstreet bets\n",
    "wsb_lst = subreddit_data('wallstreetbets')"
   ]
  },
  {
   "cell_type": "code",
   "execution_count": 4,
   "metadata": {},
   "outputs": [],
   "source": [
    "#Turn the data into a dataframe since the function stores the data within a list\n",
    "df_wsb= pd.DataFrame(wsb_lst)"
   ]
  },
  {
   "cell_type": "code",
   "execution_count": 5,
   "metadata": {},
   "outputs": [
    {
     "data": {
      "text/html": [
       "<div>\n",
       "<style scoped>\n",
       "    .dataframe tbody tr th:only-of-type {\n",
       "        vertical-align: middle;\n",
       "    }\n",
       "\n",
       "    .dataframe tbody tr th {\n",
       "        vertical-align: top;\n",
       "    }\n",
       "\n",
       "    .dataframe thead th {\n",
       "        text-align: right;\n",
       "    }\n",
       "</style>\n",
       "<table border=\"1\" class=\"dataframe\">\n",
       "  <thead>\n",
       "    <tr style=\"text-align: right;\">\n",
       "      <th></th>\n",
       "      <th>subreddit</th>\n",
       "      <th>selftext</th>\n",
       "      <th>title</th>\n",
       "      <th>created_utc</th>\n",
       "    </tr>\n",
       "  </thead>\n",
       "  <tbody>\n",
       "    <tr>\n",
       "      <th>0</th>\n",
       "      <td>wallstreetbets</td>\n",
       "      <td></td>\n",
       "      <td>Finally caved in &amp;amp; bought TSLA (1st time)....</td>\n",
       "      <td>1675634933</td>\n",
       "    </tr>\n",
       "    <tr>\n",
       "      <th>1</th>\n",
       "      <td>wallstreetbets</td>\n",
       "      <td>It’s a Norwegian Company who just found $1.3 T...</td>\n",
       "      <td>I may be regarded but we should all Buy TMC</td>\n",
       "      <td>1675634818</td>\n",
       "    </tr>\n",
       "    <tr>\n",
       "      <th>2</th>\n",
       "      <td>wallstreetbets</td>\n",
       "      <td>Is there a dark meat chicken ETF? My friend sa...</td>\n",
       "      <td>Is there a dark meat chicken ETF?</td>\n",
       "      <td>1675634793</td>\n",
       "    </tr>\n",
       "    <tr>\n",
       "      <th>3</th>\n",
       "      <td>wallstreetbets</td>\n",
       "      <td>[removed]</td>\n",
       "      <td>my journey as a regard</td>\n",
       "      <td>1675634705</td>\n",
       "    </tr>\n",
       "    <tr>\n",
       "      <th>4</th>\n",
       "      <td>wallstreetbets</td>\n",
       "      <td>[removed]</td>\n",
       "      <td>The $APE / $AMC merger conundrum: will arbitra...</td>\n",
       "      <td>1675634699</td>\n",
       "    </tr>\n",
       "  </tbody>\n",
       "</table>\n",
       "</div>"
      ],
      "text/plain": [
       "        subreddit                                           selftext  \\\n",
       "0  wallstreetbets                                                      \n",
       "1  wallstreetbets  It’s a Norwegian Company who just found $1.3 T...   \n",
       "2  wallstreetbets  Is there a dark meat chicken ETF? My friend sa...   \n",
       "3  wallstreetbets                                          [removed]   \n",
       "4  wallstreetbets                                          [removed]   \n",
       "\n",
       "                                               title  created_utc  \n",
       "0  Finally caved in &amp; bought TSLA (1st time)....   1675634933  \n",
       "1        I may be regarded but we should all Buy TMC   1675634818  \n",
       "2                  Is there a dark meat chicken ETF?   1675634793  \n",
       "3                             my journey as a regard   1675634705  \n",
       "4  The $APE / $AMC merger conundrum: will arbitra...   1675634699  "
      ]
     },
     "execution_count": 5,
     "metadata": {},
     "output_type": "execute_result"
    }
   ],
   "source": [
    "#Quick Check of the data\n",
    "df_wsb.head()"
   ]
  },
  {
   "cell_type": "code",
   "execution_count": 6,
   "metadata": {},
   "outputs": [
    {
     "data": {
      "text/html": [
       "<div>\n",
       "<style scoped>\n",
       "    .dataframe tbody tr th:only-of-type {\n",
       "        vertical-align: middle;\n",
       "    }\n",
       "\n",
       "    .dataframe tbody tr th {\n",
       "        vertical-align: top;\n",
       "    }\n",
       "\n",
       "    .dataframe thead th {\n",
       "        text-align: right;\n",
       "    }\n",
       "</style>\n",
       "<table border=\"1\" class=\"dataframe\">\n",
       "  <thead>\n",
       "    <tr style=\"text-align: right;\">\n",
       "      <th></th>\n",
       "      <th>subreddit</th>\n",
       "      <th>selftext</th>\n",
       "      <th>title</th>\n",
       "      <th>created_utc</th>\n",
       "    </tr>\n",
       "  </thead>\n",
       "  <tbody>\n",
       "    <tr>\n",
       "      <th>3995</th>\n",
       "      <td>wallstreetbets</td>\n",
       "      <td></td>\n",
       "      <td>CVNA Short Squeeze in Progress?</td>\n",
       "      <td>1675099140</td>\n",
       "    </tr>\n",
       "    <tr>\n",
       "      <th>3996</th>\n",
       "      <td>wallstreetbets</td>\n",
       "      <td>[removed]</td>\n",
       "      <td>The Devastating YOLO of u/Syed-Arbab</td>\n",
       "      <td>1675099029</td>\n",
       "    </tr>\n",
       "    <tr>\n",
       "      <th>3997</th>\n",
       "      <td>wallstreetbets</td>\n",
       "      <td>[removed]</td>\n",
       "      <td>The Devastating YOLO of u/Syed-Arbab</td>\n",
       "      <td>1675098857</td>\n",
       "    </tr>\n",
       "    <tr>\n",
       "      <th>3998</th>\n",
       "      <td>wallstreetbets</td>\n",
       "      <td></td>\n",
       "      <td>Solid Monday!</td>\n",
       "      <td>1675098631</td>\n",
       "    </tr>\n",
       "    <tr>\n",
       "      <th>3999</th>\n",
       "      <td>wallstreetbets</td>\n",
       "      <td>[removed]</td>\n",
       "      <td>yo</td>\n",
       "      <td>1675098583</td>\n",
       "    </tr>\n",
       "  </tbody>\n",
       "</table>\n",
       "</div>"
      ],
      "text/plain": [
       "           subreddit   selftext                                 title  \\\n",
       "3995  wallstreetbets                  CVNA Short Squeeze in Progress?   \n",
       "3996  wallstreetbets  [removed]  The Devastating YOLO of u/Syed-Arbab   \n",
       "3997  wallstreetbets  [removed]  The Devastating YOLO of u/Syed-Arbab   \n",
       "3998  wallstreetbets                                    Solid Monday!   \n",
       "3999  wallstreetbets  [removed]                                    yo   \n",
       "\n",
       "      created_utc  \n",
       "3995   1675099140  \n",
       "3996   1675099029  \n",
       "3997   1675098857  \n",
       "3998   1675098631  \n",
       "3999   1675098583  "
      ]
     },
     "execution_count": 6,
     "metadata": {},
     "output_type": "execute_result"
    }
   ],
   "source": [
    "#Quick Check of the data\n",
    "df_wsb.tail()"
   ]
  },
  {
   "cell_type": "code",
   "execution_count": 7,
   "metadata": {},
   "outputs": [],
   "source": [
    "#Save the file to be used for data modelling in another notebook\n",
    "df_wsb.to_csv('./csv_files/wsb_data.csv')"
   ]
  },
  {
   "cell_type": "code",
   "execution_count": 8,
   "metadata": {},
   "outputs": [],
   "source": [
    "#Call the function on the subreddit stockmarket\n",
    "sm_list = subreddit_data('StockMarket')"
   ]
  },
  {
   "cell_type": "code",
   "execution_count": 9,
   "metadata": {},
   "outputs": [],
   "source": [
    "#Turn into a Dataframe\n",
    "df_sm = pd.DataFrame(sm_list)"
   ]
  },
  {
   "cell_type": "code",
   "execution_count": 10,
   "metadata": {},
   "outputs": [],
   "source": [
    "#Save the file for later usage\n",
    "df_sm.to_csv('./csv_files/sm_data.csv')"
   ]
  },
  {
   "cell_type": "markdown",
   "metadata": {},
   "source": [
    "# Generate a Faux test data for problem statement\n",
    "Why do we want to do this? Well by generating faux test data we can see if our model can generalize well to new data. This is also useful because of what the problem statement is for the project.\n"
   ]
  },
  {
   "cell_type": "code",
   "execution_count": 16,
   "metadata": {},
   "outputs": [],
   "source": [
    "def subreddit_test_data(subred):\n",
    "    #Create a df without until parameter\n",
    "    base_url = 'https://api.pushshift.io/reddit/search/submission'\n",
    "    params1 = { \n",
    "        'subreddit' : subred,\n",
    "        'limit' : 100,\n",
    "        'user_removed': True,\n",
    "        'mod_removed': True,\n",
    "        'self_text:not':'[removed]',\n",
    "        'sort_type': 'num_comments',\n",
    "        'filter' : 'subreddit, selftext, title, created_utc'\n",
    "        \n",
    "    }\n",
    "    res = requests.get(base_url,params1)\n",
    "    #create a list where i can append the data from for loop \n",
    "    appended_data= []\n",
    "    df = pd.DataFrame(res.json()['data'])\n",
    "    appended_data.append(df)\n",
    "    #loop through parameters with different untils to get 500 points of data\n",
    "    for i in range(1,1):\n",
    "        params = { \n",
    "        'subreddit' : subred,\n",
    "        'limit' : 100,\n",
    "        'user_removed': True,\n",
    "        'mod_removed': True,\n",
    "        'self_text:not':'[removed]',\n",
    "        'sort_type': 'num_comments',\n",
    "        'filter' : 'subreddit, selftext, title, created_utc',\n",
    "        'until' : df['created_utc'][99]\n",
    "        }\n",
    "        res = requests.get(base_url,params)\n",
    "        df = pd.DataFrame(res.json()['data'])\n",
    "        appended_data.append(df)\n",
    "    appended_data = pd.concat(appended_data,ignore_index= True)\n",
    "    return appended_data"
   ]
  },
  {
   "cell_type": "code",
   "execution_count": 17,
   "metadata": {},
   "outputs": [
    {
     "data": {
      "text/html": [
       "<div>\n",
       "<style scoped>\n",
       "    .dataframe tbody tr th:only-of-type {\n",
       "        vertical-align: middle;\n",
       "    }\n",
       "\n",
       "    .dataframe tbody tr th {\n",
       "        vertical-align: top;\n",
       "    }\n",
       "\n",
       "    .dataframe thead th {\n",
       "        text-align: right;\n",
       "    }\n",
       "</style>\n",
       "<table border=\"1\" class=\"dataframe\">\n",
       "  <thead>\n",
       "    <tr style=\"text-align: right;\">\n",
       "      <th></th>\n",
       "      <th>subreddit</th>\n",
       "      <th>selftext</th>\n",
       "      <th>title</th>\n",
       "      <th>created_utc</th>\n",
       "    </tr>\n",
       "  </thead>\n",
       "  <tbody>\n",
       "    <tr>\n",
       "      <th>0</th>\n",
       "      <td>wallstreetbets</td>\n",
       "      <td></td>\n",
       "      <td>🧐💰</td>\n",
       "      <td>1675707052</td>\n",
       "    </tr>\n",
       "    <tr>\n",
       "      <th>1</th>\n",
       "      <td>wallstreetbets</td>\n",
       "      <td></td>\n",
       "      <td>Can anyone explane whats going on with tama ? ...</td>\n",
       "      <td>1675706798</td>\n",
       "    </tr>\n",
       "    <tr>\n",
       "      <th>2</th>\n",
       "      <td>wallstreetbets</td>\n",
       "      <td>Tesla stock target raised as China demand swin...</td>\n",
       "      <td>Good article why Tesla, Xpev, BYD, NiO, Li wil...</td>\n",
       "      <td>1675706782</td>\n",
       "    </tr>\n",
       "    <tr>\n",
       "      <th>3</th>\n",
       "      <td>wallstreetbets</td>\n",
       "      <td>I would love to know my fellow regards and my\\...</td>\n",
       "      <td>Should I Start?</td>\n",
       "      <td>1675706712</td>\n",
       "    </tr>\n",
       "    <tr>\n",
       "      <th>4</th>\n",
       "      <td>wallstreetbets</td>\n",
       "      <td></td>\n",
       "      <td>If you flip it 180 degrees, I’m winning, right?</td>\n",
       "      <td>1675706660</td>\n",
       "    </tr>\n",
       "  </tbody>\n",
       "</table>\n",
       "</div>"
      ],
      "text/plain": [
       "        subreddit                                           selftext  \\\n",
       "0  wallstreetbets                                                      \n",
       "1  wallstreetbets                                                      \n",
       "2  wallstreetbets  Tesla stock target raised as China demand swin...   \n",
       "3  wallstreetbets  I would love to know my fellow regards and my\\...   \n",
       "4  wallstreetbets                                                      \n",
       "\n",
       "                                               title  created_utc  \n",
       "0                                                 🧐💰   1675707052  \n",
       "1  Can anyone explane whats going on with tama ? ...   1675706798  \n",
       "2  Good article why Tesla, Xpev, BYD, NiO, Li wil...   1675706782  \n",
       "3                                    Should I Start?   1675706712  \n",
       "4    If you flip it 180 degrees, I’m winning, right?   1675706660  "
      ]
     },
     "execution_count": 17,
     "metadata": {},
     "output_type": "execute_result"
    }
   ],
   "source": [
    "#Get the test Data from wallstreet bets and repeat steps from earlier and save it as a csv\n",
    "wsb_lst_test = subreddit_test_data('wallstreetbets')\n",
    "df_wsb_test= pd.DataFrame(wsb_lst_test)\n",
    "df_wsb_test.head()"
   ]
  },
  {
   "cell_type": "code",
   "execution_count": 18,
   "metadata": {},
   "outputs": [],
   "source": [
    "df_wsb_test.to_csv('./csv_files/wsb_data_test.csv')"
   ]
  },
  {
   "cell_type": "code",
   "execution_count": 19,
   "metadata": {},
   "outputs": [
    {
     "data": {
      "text/html": [
       "<div>\n",
       "<style scoped>\n",
       "    .dataframe tbody tr th:only-of-type {\n",
       "        vertical-align: middle;\n",
       "    }\n",
       "\n",
       "    .dataframe tbody tr th {\n",
       "        vertical-align: top;\n",
       "    }\n",
       "\n",
       "    .dataframe thead th {\n",
       "        text-align: right;\n",
       "    }\n",
       "</style>\n",
       "<table border=\"1\" class=\"dataframe\">\n",
       "  <thead>\n",
       "    <tr style=\"text-align: right;\">\n",
       "      <th></th>\n",
       "      <th>subreddit</th>\n",
       "      <th>selftext</th>\n",
       "      <th>title</th>\n",
       "      <th>created_utc</th>\n",
       "    </tr>\n",
       "  </thead>\n",
       "  <tbody>\n",
       "    <tr>\n",
       "      <th>0</th>\n",
       "      <td>StockMarket</td>\n",
       "      <td>Is it true or just a myth that theoretically B...</td>\n",
       "      <td>So let me get this straight..</td>\n",
       "      <td>1675706960</td>\n",
       "    </tr>\n",
       "    <tr>\n",
       "      <th>1</th>\n",
       "      <td>StockMarket</td>\n",
       "      <td>See the 4 Charts above...</td>\n",
       "      <td>$MARA is likely close a breakout after battlin...</td>\n",
       "      <td>1675706826</td>\n",
       "    </tr>\n",
       "    <tr>\n",
       "      <th>2</th>\n",
       "      <td>StockMarket</td>\n",
       "      <td>After making my previous “roast my portfolio” ...</td>\n",
       "      <td>Update to my “Roast my portfolio🔥” post, thank...</td>\n",
       "      <td>1675705163</td>\n",
       "    </tr>\n",
       "    <tr>\n",
       "      <th>3</th>\n",
       "      <td>StockMarket</td>\n",
       "      <td></td>\n",
       "      <td>Predictions for AI this week?</td>\n",
       "      <td>1675704731</td>\n",
       "    </tr>\n",
       "    <tr>\n",
       "      <th>4</th>\n",
       "      <td>StockMarket</td>\n",
       "      <td>[removed]</td>\n",
       "      <td>Wash Sales</td>\n",
       "      <td>1675704102</td>\n",
       "    </tr>\n",
       "  </tbody>\n",
       "</table>\n",
       "</div>"
      ],
      "text/plain": [
       "     subreddit                                           selftext  \\\n",
       "0  StockMarket  Is it true or just a myth that theoretically B...   \n",
       "1  StockMarket                          See the 4 Charts above...   \n",
       "2  StockMarket  After making my previous “roast my portfolio” ...   \n",
       "3  StockMarket                                                      \n",
       "4  StockMarket                                          [removed]   \n",
       "\n",
       "                                               title  created_utc  \n",
       "0                      So let me get this straight..   1675706960  \n",
       "1  $MARA is likely close a breakout after battlin...   1675706826  \n",
       "2  Update to my “Roast my portfolio🔥” post, thank...   1675705163  \n",
       "3                      Predictions for AI this week?   1675704731  \n",
       "4                                         Wash Sales   1675704102  "
      ]
     },
     "execution_count": 19,
     "metadata": {},
     "output_type": "execute_result"
    }
   ],
   "source": [
    "#Get the test Data from stockmarket and repeat steps from earlier and save it as a csv\n",
    "sm_lst_test = subreddit_test_data('StockMarket')\n",
    "df_sm_test= pd.DataFrame(sm_lst_test)\n",
    "df_sm_test.head()"
   ]
  },
  {
   "cell_type": "code",
   "execution_count": 20,
   "metadata": {},
   "outputs": [],
   "source": [
    "df_sm_test.to_csv('./csv_files/sm_data_test.csv')"
   ]
  },
  {
   "cell_type": "code",
   "execution_count": null,
   "metadata": {},
   "outputs": [],
   "source": []
  }
 ],
 "metadata": {
  "kernelspec": {
   "display_name": "Python 3.8.15 ('base')",
   "language": "python",
   "name": "python3"
  },
  "language_info": {
   "codemirror_mode": {
    "name": "ipython",
    "version": 3
   },
   "file_extension": ".py",
   "mimetype": "text/x-python",
   "name": "python",
   "nbconvert_exporter": "python",
   "pygments_lexer": "ipython3",
   "version": "3.8.15"
  },
  "orig_nbformat": 4,
  "vscode": {
   "interpreter": {
    "hash": "abd0db753b5aa849fcd3ff8bd130488ba3623be7a2758c7f531c9ac28620d6eb"
   }
  }
 },
 "nbformat": 4,
 "nbformat_minor": 2
}
